{
 "cells": [
  {
   "cell_type": "code",
   "id": "initial_id",
   "metadata": {
    "collapsed": true,
    "ExecuteTime": {
     "end_time": "2024-07-09T01:45:25.271382Z",
     "start_time": "2024-07-09T01:45:20.552762Z"
    }
   },
   "source": [
    "from transformers import TrainingArguments, Trainer, DistilBertForSequenceClassification, DistilBertTokenizer\n",
    "from datasets import load_dataset\n",
    "import evaluate\n",
    "import torch"
   ],
   "outputs": [],
   "execution_count": 1
  },
  {
   "metadata": {
    "ExecuteTime": {
     "end_time": "2024-07-09T01:45:29.687485Z",
     "start_time": "2024-07-09T01:45:25.272477Z"
    }
   },
   "cell_type": "code",
   "source": [
    "# Load the IMDB dataset\n",
    "ds = load_dataset(\"stanfordnlp/imdb\")"
   ],
   "id": "e4bc050b1fe54480",
   "outputs": [],
   "execution_count": 2
  },
  {
   "metadata": {
    "ExecuteTime": {
     "end_time": "2024-07-09T01:45:29.690257Z",
     "start_time": "2024-07-09T01:45:29.688182Z"
    }
   },
   "cell_type": "code",
   "source": [
    "# Inspect the dataset\n",
    "print(ds)"
   ],
   "id": "ee76cda32477a216",
   "outputs": [
    {
     "name": "stdout",
     "output_type": "stream",
     "text": [
      "DatasetDict({\n",
      "    train: Dataset({\n",
      "        features: ['text', 'label'],\n",
      "        num_rows: 25000\n",
      "    })\n",
      "    test: Dataset({\n",
      "        features: ['text', 'label'],\n",
      "        num_rows: 25000\n",
      "    })\n",
      "    unsupervised: Dataset({\n",
      "        features: ['text', 'label'],\n",
      "        num_rows: 50000\n",
      "    })\n",
      "})\n"
     ]
    }
   ],
   "execution_count": 3
  },
  {
   "metadata": {
    "ExecuteTime": {
     "end_time": "2024-07-09T01:45:29.692137Z",
     "start_time": "2024-07-09T01:45:29.690803Z"
    }
   },
   "cell_type": "code",
   "source": "#Preprocess the Dataset",
   "id": "bc8a531048270dd",
   "outputs": [],
   "execution_count": 4
  },
  {
   "metadata": {
    "ExecuteTime": {
     "end_time": "2024-07-09T01:45:29.850973Z",
     "start_time": "2024-07-09T01:45:29.693345Z"
    }
   },
   "cell_type": "code",
   "source": [
    "# Load the tokenizer\n",
    "tokenizer = DistilBertTokenizer.from_pretrained('distilbert-base-uncased')"
   ],
   "id": "550fd881f08210bf",
   "outputs": [
    {
     "name": "stderr",
     "output_type": "stream",
     "text": [
      "/Library/anaconda3/lib/python3.11/site-packages/huggingface_hub/file_download.py:1132: FutureWarning: `resume_download` is deprecated and will be removed in version 1.0.0. Downloads always resume when possible. If you want to force a new download, use `force_download=True`.\n",
      "  warnings.warn(\n"
     ]
    }
   ],
   "execution_count": 5
  },
  {
   "metadata": {
    "ExecuteTime": {
     "end_time": "2024-07-09T01:45:29.853140Z",
     "start_time": "2024-07-09T01:45:29.851607Z"
    }
   },
   "cell_type": "code",
   "source": [
    "# Define a preprocessing function\n",
    "def preprocess_function(examples):\n",
    "    return tokenizer(examples['text'], truncation=True, padding='max_length', max_length=512)\n"
   ],
   "id": "5b9c9fd37d30e91e",
   "outputs": [],
   "execution_count": 6
  },
  {
   "metadata": {
    "ExecuteTime": {
     "end_time": "2024-07-09T01:48:07.917347Z",
     "start_time": "2024-07-09T01:45:29.853806Z"
    }
   },
   "cell_type": "code",
   "source": [
    "# Apply the preprocessing function to the dataset\n",
    "tokenized_datasets = ds.map(preprocess_function, batched=True)"
   ],
   "id": "adf503d018a2c3f3",
   "outputs": [
    {
     "data": {
      "text/plain": [
       "Map:   0%|          | 0/25000 [00:00<?, ? examples/s]"
      ],
      "application/vnd.jupyter.widget-view+json": {
       "version_major": 2,
       "version_minor": 0,
       "model_id": "507b090da94449dbb7c93c4d4cd858ab"
      }
     },
     "metadata": {},
     "output_type": "display_data"
    },
    {
     "data": {
      "text/plain": [
       "Map:   0%|          | 0/25000 [00:00<?, ? examples/s]"
      ],
      "application/vnd.jupyter.widget-view+json": {
       "version_major": 2,
       "version_minor": 0,
       "model_id": "22d56ef60788482c8a20115096bd2d56"
      }
     },
     "metadata": {},
     "output_type": "display_data"
    },
    {
     "data": {
      "text/plain": [
       "Map:   0%|          | 0/50000 [00:00<?, ? examples/s]"
      ],
      "application/vnd.jupyter.widget-view+json": {
       "version_major": 2,
       "version_minor": 0,
       "model_id": "5b1c00c65f4f4c219d2cff352e38e46f"
      }
     },
     "metadata": {},
     "output_type": "display_data"
    }
   ],
   "execution_count": 7
  },
  {
   "metadata": {
    "ExecuteTime": {
     "end_time": "2024-07-09T01:48:07.922277Z",
     "start_time": "2024-07-09T01:48:07.918374Z"
    }
   },
   "cell_type": "code",
   "source": [
    "# Remove unnecessary columns\n",
    "tokenized_datasets = tokenized_datasets.remove_columns(['text'])"
   ],
   "id": "62dfb2819e55e766",
   "outputs": [],
   "execution_count": 8
  },
  {
   "metadata": {
    "ExecuteTime": {
     "end_time": "2024-07-09T01:48:07.926707Z",
     "start_time": "2024-07-09T01:48:07.922859Z"
    }
   },
   "cell_type": "code",
   "source": [
    "# Rename the label column to \"labels\"\n",
    "tokenized_datasets = tokenized_datasets.rename_column(\"label\", \"labels\")"
   ],
   "id": "a8a39cbfe598347a",
   "outputs": [],
   "execution_count": 9
  },
  {
   "metadata": {
    "ExecuteTime": {
     "end_time": "2024-07-09T01:48:07.928989Z",
     "start_time": "2024-07-09T01:48:07.927412Z"
    }
   },
   "cell_type": "code",
   "source": [
    "# Set the format of the dataset\n",
    "tokenized_datasets.set_format('torch')"
   ],
   "id": "2cb06db402ff81a0",
   "outputs": [],
   "execution_count": 10
  },
  {
   "metadata": {
    "ExecuteTime": {
     "end_time": "2024-07-09T01:48:07.930745Z",
     "start_time": "2024-07-09T01:48:07.929547Z"
    }
   },
   "cell_type": "code",
   "source": "#Define the Metrics",
   "id": "e5e0dee30cf8dcb2",
   "outputs": [],
   "execution_count": 11
  },
  {
   "metadata": {
    "ExecuteTime": {
     "end_time": "2024-07-09T01:48:09.147672Z",
     "start_time": "2024-07-09T01:48:07.931201Z"
    }
   },
   "cell_type": "code",
   "source": [
    "# Load the accuracy metric\n",
    "accuracy_metric = evaluate.load(\"accuracy\")\n"
   ],
   "id": "8e48281bdb14594e",
   "outputs": [
    {
     "data": {
      "text/plain": [
       "Downloading builder script:   0%|          | 0.00/4.20k [00:00<?, ?B/s]"
      ],
      "application/vnd.jupyter.widget-view+json": {
       "version_major": 2,
       "version_minor": 0,
       "model_id": "79438c85502b494a955b36e37ffc2465"
      }
     },
     "metadata": {},
     "output_type": "display_data"
    }
   ],
   "execution_count": 12
  },
  {
   "metadata": {
    "ExecuteTime": {
     "end_time": "2024-07-09T01:48:09.156709Z",
     "start_time": "2024-07-09T01:48:09.150862Z"
    }
   },
   "cell_type": "code",
   "source": [
    "# Define a function to compute metrics\n",
    "def compute_metrics(eval_pred):\n",
    "    logits, labels = eval_pred\n",
    "    predictions = torch.argmax(logits, dim=-1)\n",
    "    accuracy = accuracy_metric.compute(predictions=predictions, references=labels)\n",
    "    return accuracy"
   ],
   "id": "8d31c21f4bb93634",
   "outputs": [],
   "execution_count": 13
  },
  {
   "metadata": {
    "ExecuteTime": {
     "end_time": "2024-07-09T01:48:09.162798Z",
     "start_time": "2024-07-09T01:48:09.161352Z"
    }
   },
   "cell_type": "code",
   "source": "#Initialize the Model and Trainer",
   "id": "31e2bd1f64d431d6",
   "outputs": [],
   "execution_count": 14
  },
  {
   "metadata": {
    "ExecuteTime": {
     "end_time": "2024-07-09T01:48:09.780115Z",
     "start_time": "2024-07-09T01:48:09.163516Z"
    }
   },
   "cell_type": "code",
   "source": [
    "# Load the model\n",
    "model = DistilBertForSequenceClassification.from_pretrained('distilbert-base-uncased')"
   ],
   "id": "d809c2c42e55c752",
   "outputs": [
    {
     "name": "stderr",
     "output_type": "stream",
     "text": [
      "Some weights of DistilBertForSequenceClassification were not initialized from the model checkpoint at distilbert-base-uncased and are newly initialized: ['classifier.bias', 'classifier.weight', 'pre_classifier.bias', 'pre_classifier.weight']\n",
      "You should probably TRAIN this model on a down-stream task to be able to use it for predictions and inference.\n"
     ]
    }
   ],
   "execution_count": 15
  },
  {
   "metadata": {
    "ExecuteTime": {
     "end_time": "2024-07-09T01:48:09.810189Z",
     "start_time": "2024-07-09T01:48:09.781032Z"
    }
   },
   "cell_type": "code",
   "source": [
    "# Define the training arguments\n",
    "training_args = TrainingArguments(\n",
    "    output_dir='my_model',\n",
    "    learning_rate=2e-5,\n",
    "    per_device_train_batch_size=16,\n",
    "    per_device_eval_batch_size=16,\n",
    "    num_train_epochs=3,  # You can adjust the number of epochs\n",
    "    push_to_hub=False,\n",
    ")\n"
   ],
   "id": "306626519fb18e2a",
   "outputs": [],
   "execution_count": 16
  },
  {
   "metadata": {
    "ExecuteTime": {
     "end_time": "2024-07-09T01:48:10.248772Z",
     "start_time": "2024-07-09T01:48:09.810788Z"
    }
   },
   "cell_type": "code",
   "source": [
    "# Initialize the Trainer\n",
    "trainer = Trainer(\n",
    "    model=model,\n",
    "    args=training_args,\n",
    "    train_dataset=tokenized_datasets['train'],\n",
    "    eval_dataset=tokenized_datasets['test'],\n",
    "    tokenizer=tokenizer,\n",
    "    compute_metrics=compute_metrics,\n",
    ")"
   ],
   "id": "ac86240359cdf52a",
   "outputs": [
    {
     "name": "stderr",
     "output_type": "stream",
     "text": [
      "/Library/anaconda3/lib/python3.11/site-packages/accelerate/accelerator.py:436: FutureWarning: Passing the following arguments to `Accelerator` is deprecated and will be removed in version 1.0 of Accelerate: dict_keys(['dispatch_batches', 'split_batches']). Please pass an `accelerate.DataLoaderConfiguration` instead: \n",
      "dataloader_config = DataLoaderConfiguration(dispatch_batches=None, split_batches=False)\n",
      "  warnings.warn(\n"
     ]
    }
   ],
   "execution_count": 17
  },
  {
   "metadata": {
    "ExecuteTime": {
     "end_time": "2024-07-09T03:24:21.368751Z",
     "start_time": "2024-07-09T01:48:10.252698Z"
    }
   },
   "cell_type": "code",
   "source": [
    "# Train the model\n",
    "trainer.train()"
   ],
   "id": "1ccdda3432fa22ac",
   "outputs": [
    {
     "data": {
      "text/plain": [
       "<IPython.core.display.HTML object>"
      ],
      "text/html": [
       "\n",
       "    <div>\n",
       "      \n",
       "      <progress value='4689' max='4689' style='width:300px; height:20px; vertical-align: middle;'></progress>\n",
       "      [4689/4689 1:36:04, Epoch 3/3]\n",
       "    </div>\n",
       "    <table border=\"1\" class=\"dataframe\">\n",
       "  <thead>\n",
       " <tr style=\"text-align: left;\">\n",
       "      <th>Step</th>\n",
       "      <th>Training Loss</th>\n",
       "    </tr>\n",
       "  </thead>\n",
       "  <tbody>\n",
       "    <tr>\n",
       "      <td>500</td>\n",
       "      <td>0.323600</td>\n",
       "    </tr>\n",
       "    <tr>\n",
       "      <td>1000</td>\n",
       "      <td>0.247700</td>\n",
       "    </tr>\n",
       "    <tr>\n",
       "      <td>1500</td>\n",
       "      <td>0.226900</td>\n",
       "    </tr>\n",
       "    <tr>\n",
       "      <td>2000</td>\n",
       "      <td>0.163500</td>\n",
       "    </tr>\n",
       "    <tr>\n",
       "      <td>2500</td>\n",
       "      <td>0.151100</td>\n",
       "    </tr>\n",
       "    <tr>\n",
       "      <td>3000</td>\n",
       "      <td>0.144700</td>\n",
       "    </tr>\n",
       "    <tr>\n",
       "      <td>3500</td>\n",
       "      <td>0.101900</td>\n",
       "    </tr>\n",
       "    <tr>\n",
       "      <td>4000</td>\n",
       "      <td>0.077000</td>\n",
       "    </tr>\n",
       "    <tr>\n",
       "      <td>4500</td>\n",
       "      <td>0.093800</td>\n",
       "    </tr>\n",
       "  </tbody>\n",
       "</table><p>"
      ]
     },
     "metadata": {},
     "output_type": "display_data"
    },
    {
     "data": {
      "text/plain": [
       "TrainOutput(global_step=4689, training_loss=0.16626387929885875, metrics={'train_runtime': 5771.0135, 'train_samples_per_second': 12.996, 'train_steps_per_second': 0.813, 'total_flos': 9935054899200000.0, 'train_loss': 0.16626387929885875, 'epoch': 3.0})"
      ]
     },
     "execution_count": 18,
     "metadata": {},
     "output_type": "execute_result"
    }
   ],
   "execution_count": 18
  },
  {
   "metadata": {
    "ExecuteTime": {
     "end_time": "2024-07-09T03:24:21.608961Z",
     "start_time": "2024-07-09T03:24:21.377842Z"
    }
   },
   "cell_type": "code",
   "source": [
    "# Save the model\n",
    "model.save_pretrained('my_model')\n",
    "tokenizer.save_pretrained('my_model')"
   ],
   "id": "15217471258a9cae",
   "outputs": [
    {
     "data": {
      "text/plain": [
       "('my_model/tokenizer_config.json',\n",
       " 'my_model/special_tokens_map.json',\n",
       " 'my_model/vocab.txt',\n",
       " 'my_model/added_tokens.json')"
      ]
     },
     "execution_count": 19,
     "metadata": {},
     "output_type": "execute_result"
    }
   ],
   "execution_count": 19
  },
  {
   "metadata": {
    "ExecuteTime": {
     "end_time": "2024-07-09T03:24:21.613557Z",
     "start_time": "2024-07-09T03:24:21.610057Z"
    }
   },
   "cell_type": "code",
   "source": "#After saving the model, you can use it for making predictions on new text data:",
   "id": "f677e2fadf7fd3a8",
   "outputs": [],
   "execution_count": 20
  },
  {
   "metadata": {
    "ExecuteTime": {
     "end_time": "2024-07-09T03:24:21.786807Z",
     "start_time": "2024-07-09T03:24:21.615774Z"
    }
   },
   "cell_type": "code",
   "source": [
    "# Load the model and tokenizer\n",
    "model = DistilBertForSequenceClassification.from_pretrained('my_model')\n",
    "tokenizer = DistilBertTokenizer.from_pretrained('my_model')"
   ],
   "id": "9a5441c4cc24e669",
   "outputs": [],
   "execution_count": 21
  },
  {
   "metadata": {
    "ExecuteTime": {
     "end_time": "2024-07-09T03:24:21.798437Z",
     "start_time": "2024-07-09T03:24:21.787718Z"
    }
   },
   "cell_type": "code",
   "source": [
    "# Define the pipeline for sentiment analysis\n",
    "from transformers import pipeline\n",
    "pipe = pipeline('sentiment-analysis', model=model, tokenizer=tokenizer)"
   ],
   "id": "54d1bb8922629e75",
   "outputs": [],
   "execution_count": 22
  },
  {
   "metadata": {
    "ExecuteTime": {
     "end_time": "2024-07-09T03:24:21.800816Z",
     "start_time": "2024-07-09T03:24:21.799035Z"
    }
   },
   "cell_type": "code",
   "source": [
    "# Example text data\n",
    "data = [\n",
    "    \"I love this movie, it was fantastic!\",\n",
    "    \"The film was boring and too long.\",\n",
    "    \"An excellent performance by the lead actor.\",\n",
    "    \"Not my cup of tea, I didn't enjoy it.\"\n",
    "]\n"
   ],
   "id": "9394e8f13e17c4ad",
   "outputs": [],
   "execution_count": 23
  },
  {
   "metadata": {
    "ExecuteTime": {
     "end_time": "2024-07-09T03:24:21.957851Z",
     "start_time": "2024-07-09T03:24:21.801875Z"
    }
   },
   "cell_type": "code",
   "source": [
    "# Make predictions\n",
    "preds = pipe(data)"
   ],
   "id": "7e0dde05fd52aad2",
   "outputs": [],
   "execution_count": 24
  },
  {
   "metadata": {
    "ExecuteTime": {
     "end_time": "2024-07-09T03:24:21.962111Z",
     "start_time": "2024-07-09T03:24:21.958940Z"
    }
   },
   "cell_type": "code",
   "source": [
    "# Inspect the predictions\n",
    "for text, pred in zip(data, preds):\n",
    "    print(f'Text: {text}')\n",
    "    print(f'Prediction: {pred}\\n')"
   ],
   "id": "dff1b7be6db05a8d",
   "outputs": [
    {
     "name": "stdout",
     "output_type": "stream",
     "text": [
      "Text: I love this movie, it was fantastic!\n",
      "Prediction: {'label': 'LABEL_1', 'score': 0.9980655312538147}\n",
      "\n",
      "Text: The film was boring and too long.\n",
      "Prediction: {'label': 'LABEL_0', 'score': 0.9980814456939697}\n",
      "\n",
      "Text: An excellent performance by the lead actor.\n",
      "Prediction: {'label': 'LABEL_1', 'score': 0.9980276226997375}\n",
      "\n",
      "Text: Not my cup of tea, I didn't enjoy it.\n",
      "Prediction: {'label': 'LABEL_0', 'score': 0.9947769641876221}\n",
      "\n"
     ]
    }
   ],
   "execution_count": 25
  }
 ],
 "metadata": {
  "kernelspec": {
   "display_name": "Python 3",
   "language": "python",
   "name": "python3"
  },
  "language_info": {
   "codemirror_mode": {
    "name": "ipython",
    "version": 2
   },
   "file_extension": ".py",
   "mimetype": "text/x-python",
   "name": "python",
   "nbconvert_exporter": "python",
   "pygments_lexer": "ipython2",
   "version": "2.7.6"
  }
 },
 "nbformat": 4,
 "nbformat_minor": 5
}
