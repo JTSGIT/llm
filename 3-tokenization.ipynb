{
 "cells": [
  {
   "cell_type": "code",
   "id": "initial_id",
   "metadata": {
    "collapsed": true,
    "ExecuteTime": {
     "end_time": "2024-07-08T20:37:44.900165Z",
     "start_time": "2024-07-08T20:37:43.008370Z"
    }
   },
   "source": [
    "from datasets import load_dataset\n",
    "import pandas as pd\n",
    "from sklearn.feature_extraction.text import CountVectorizer, TfidfVectorizer\n",
    "from sklearn.model_selection import train_test_split\n",
    "from sklearn.linear_model import LogisticRegression\n",
    "from sklearn.metrics import accuracy_score, classification_report\n",
    "import re\n",
    "import nltk\n",
    "from nltk.corpus import stopwords"
   ],
   "outputs": [],
   "execution_count": 1
  },
  {
   "metadata": {
    "ExecuteTime": {
     "end_time": "2024-07-08T20:38:05.114537Z",
     "start_time": "2024-07-08T20:38:01.248859Z"
    }
   },
   "cell_type": "code",
   "source": [
    "# Load the IMDB dataset\n",
    "ds = load_dataset(\"stanfordnlp/imdb\")"
   ],
   "id": "2f2bfb7bedbe8901",
   "outputs": [],
   "execution_count": 2
  },
  {
   "metadata": {
    "ExecuteTime": {
     "end_time": "2024-07-08T20:38:08.406789Z",
     "start_time": "2024-07-08T20:38:07.998257Z"
    }
   },
   "cell_type": "code",
   "source": [
    "# Convert to pandas DataFrame\n",
    "df_train = pd.DataFrame(ds['train'])\n",
    "df_test = pd.DataFrame(ds['test'])"
   ],
   "id": "d19601944beb29d8",
   "outputs": [],
   "execution_count": 3
  },
  {
   "metadata": {
    "ExecuteTime": {
     "end_time": "2024-07-08T20:38:12.569145Z",
     "start_time": "2024-07-08T20:38:12.563233Z"
    }
   },
   "cell_type": "code",
   "source": [
    "# Combine train and test data for processing\n",
    "df = pd.concat([df_train, df_test])\n"
   ],
   "id": "ad878b5c6805f1ed",
   "outputs": [],
   "execution_count": 4
  },
  {
   "metadata": {
    "ExecuteTime": {
     "end_time": "2024-07-08T20:38:18.997548Z",
     "start_time": "2024-07-08T20:38:18.658945Z"
    }
   },
   "cell_type": "code",
   "source": [
    "# Download stopwords\n",
    "nltk.download('stopwords')\n",
    "stop_words = set(stopwords.words('english'))"
   ],
   "id": "9d2c9b0094c0e9b2",
   "outputs": [
    {
     "name": "stderr",
     "output_type": "stream",
     "text": [
      "[nltk_data] Downloading package stopwords to\n",
      "[nltk_data]     /Users/jorgen/nltk_data...\n",
      "[nltk_data]   Package stopwords is already up-to-date!\n"
     ]
    }
   ],
   "execution_count": 5
  },
  {
   "metadata": {
    "ExecuteTime": {
     "end_time": "2024-07-08T20:38:49.249440Z",
     "start_time": "2024-07-08T20:38:47.561067Z"
    }
   },
   "cell_type": "code",
   "source": [
    "# Preprocess text: remove punctuation, capitalization, and stop words\n",
    "def preprocess_text(text):\n",
    "    text = re.sub(r'[^\\w\\s]', '', text)  # Remove punctuation\n",
    "    text = text.lower()  # Convert to lowercase\n",
    "    text = ' '.join([word for word in text.split() if word not in stop_words])  # Remove stop words\n",
    "    return text\n",
    "\n",
    "df['text'] = df['text'].apply(preprocess_text)"
   ],
   "id": "2f4a60804d027fc0",
   "outputs": [],
   "execution_count": 6
  },
  {
   "metadata": {
    "ExecuteTime": {
     "end_time": "2024-07-08T20:38:55.800786Z",
     "start_time": "2024-07-08T20:38:55.791083Z"
    }
   },
   "cell_type": "code",
   "source": [
    "# Split back into train and test sets\n",
    "train_texts, test_texts, train_labels, test_labels = train_test_split(df['text'], df['label'], test_size=0.5, random_state=42)"
   ],
   "id": "e5018b69fe5886ec",
   "outputs": [],
   "execution_count": 7
  },
  {
   "metadata": {
    "ExecuteTime": {
     "end_time": "2024-07-08T20:41:14.179803Z",
     "start_time": "2024-07-08T20:41:11.977837Z"
    }
   },
   "cell_type": "code",
   "source": [
    "# TF-IDF\n",
    "vectorizer_tfidf = TfidfVectorizer()\n",
    "X_train_tfidf = vectorizer_tfidf.fit_transform(train_texts)\n",
    "X_test_tfidf = vectorizer_tfidf.transform(test_texts)"
   ],
   "id": "ee2ddf746c2647e7",
   "outputs": [],
   "execution_count": 8
  },
  {
   "metadata": {
    "ExecuteTime": {
     "end_time": "2024-07-08T20:41:23.868748Z",
     "start_time": "2024-07-08T20:41:22.746131Z"
    }
   },
   "cell_type": "code",
   "source": [
    "# Logistic Regression with TF-IDF\n",
    "model_tfidf = LogisticRegression(max_iter=1000)\n",
    "model_tfidf.fit(X_train_tfidf, train_labels)\n",
    "predictions_tfidf = model_tfidf.predict(X_test_tfidf)"
   ],
   "id": "ad6b7de315f0123b",
   "outputs": [],
   "execution_count": 9
  },
  {
   "metadata": {
    "ExecuteTime": {
     "end_time": "2024-07-08T20:41:32.877444Z",
     "start_time": "2024-07-08T20:41:32.841434Z"
    }
   },
   "cell_type": "code",
   "source": [
    "accuracy_tfidf = accuracy_score(test_labels, predictions_tfidf)\n",
    "report_tfidf = classification_report(test_labels, predictions_tfidf)\n",
    "\n",
    "print(f\"TF-IDF Accuracy: {accuracy_tfidf}\")\n",
    "print(f\"TF-IDF Classification Report:\\n{report_tfidf}\")"
   ],
   "id": "49addb007d08ef22",
   "outputs": [
    {
     "name": "stdout",
     "output_type": "stream",
     "text": [
      "TF-IDF Accuracy: 0.89044\n",
      "TF-IDF Classification Report:\n",
      "              precision    recall  f1-score   support\n",
      "\n",
      "           0       0.91      0.87      0.89     12603\n",
      "           1       0.88      0.91      0.89     12397\n",
      "\n",
      "    accuracy                           0.89     25000\n",
      "   macro avg       0.89      0.89      0.89     25000\n",
      "weighted avg       0.89      0.89      0.89     25000\n",
      "\n"
     ]
    }
   ],
   "execution_count": 10
  },
  {
   "metadata": {},
   "cell_type": "markdown",
   "source": [
    "### Reflection:\n",
    "\n",
    "- **How well does this model perform?**\n",
    "- The model performs well with an accuracy of 89%. Both precision and recall are high for both positive and negative classes, resulting in a balanced F1-score.\n",
    "- - **Context Ignorance:** TF-IDF, while effective, does not consider the context or order of words. More advanced models like BERT can capture semantic meaning better.\n",
    "- **Simplicity of Model:** Logistic Regression is a simple model. Exploring more complex models like neural networks might improve performance further."
   ],
   "id": "f63db496236ebd78"
  },
  {
   "metadata": {},
   "cell_type": "markdown",
   "source": "",
   "id": "15aa25669605d578"
  },
  {
   "metadata": {},
   "cell_type": "markdown",
   "source": "",
   "id": "9c09a0ab2d4ed2ee"
  },
  {
   "metadata": {},
   "cell_type": "markdown",
   "source": "",
   "id": "19ee4e203758df2e"
  }
 ],
 "metadata": {
  "kernelspec": {
   "display_name": "Python 3",
   "language": "python",
   "name": "python3"
  },
  "language_info": {
   "codemirror_mode": {
    "name": "ipython",
    "version": 2
   },
   "file_extension": ".py",
   "mimetype": "text/x-python",
   "name": "python",
   "nbconvert_exporter": "python",
   "pygments_lexer": "ipython2",
   "version": "2.7.6"
  }
 },
 "nbformat": 4,
 "nbformat_minor": 5
}
