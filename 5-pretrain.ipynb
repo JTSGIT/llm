{
 "cells": [
  {
   "metadata": {
    "ExecuteTime": {
     "end_time": "2024-07-16T22:44:56.769746Z",
     "start_time": "2024-07-16T22:44:54.410785Z"
    }
   },
   "cell_type": "code",
   "source": [
    "# Check if the model is correctly loaded\n",
    "from transformers import DistilBertForSequenceClassification, DistilBertTokenizer"
   ],
   "id": "9a80bc9ea7dce967",
   "outputs": [],
   "execution_count": 1
  },
  {
   "metadata": {
    "ExecuteTime": {
     "end_time": "2024-07-16T22:45:01.260634Z",
     "start_time": "2024-07-16T22:44:59.999488Z"
    }
   },
   "cell_type": "code",
   "source": [
    "# Check if the model is correctly loaded\n",
    "from transformers import DistilBertForSequenceClassification, DistilBertTokenizer\n",
    "\n",
    "model_name = 'distilbert-base-uncased-finetuned-sst-2-english'\n",
    "model = DistilBertForSequenceClassification.from_pretrained(model_name)\n",
    "tokenizer = DistilBertTokenizer.from_pretrained(model_name)\n",
    "\n",
    "# Display model and tokenizer details\n",
    "print(model.config)\n",
    "print(tokenizer)"
   ],
   "id": "f37f4aae9dfc86c1",
   "outputs": [
    {
     "name": "stdout",
     "output_type": "stream",
     "text": [
      "DistilBertConfig {\n",
      "  \"_name_or_path\": \"distilbert-base-uncased-finetuned-sst-2-english\",\n",
      "  \"activation\": \"gelu\",\n",
      "  \"architectures\": [\n",
      "    \"DistilBertForSequenceClassification\"\n",
      "  ],\n",
      "  \"attention_dropout\": 0.1,\n",
      "  \"dim\": 768,\n",
      "  \"dropout\": 0.1,\n",
      "  \"finetuning_task\": \"sst-2\",\n",
      "  \"hidden_dim\": 3072,\n",
      "  \"id2label\": {\n",
      "    \"0\": \"NEGATIVE\",\n",
      "    \"1\": \"POSITIVE\"\n",
      "  },\n",
      "  \"initializer_range\": 0.02,\n",
      "  \"label2id\": {\n",
      "    \"NEGATIVE\": 0,\n",
      "    \"POSITIVE\": 1\n",
      "  },\n",
      "  \"max_position_embeddings\": 512,\n",
      "  \"model_type\": \"distilbert\",\n",
      "  \"n_heads\": 12,\n",
      "  \"n_layers\": 6,\n",
      "  \"output_past\": true,\n",
      "  \"pad_token_id\": 0,\n",
      "  \"qa_dropout\": 0.1,\n",
      "  \"seq_classif_dropout\": 0.2,\n",
      "  \"sinusoidal_pos_embds\": false,\n",
      "  \"tie_weights_\": true,\n",
      "  \"transformers_version\": \"4.42.4\",\n",
      "  \"vocab_size\": 30522\n",
      "}\n",
      "\n",
      "DistilBertTokenizer(name_or_path='distilbert-base-uncased-finetuned-sst-2-english', vocab_size=30522, model_max_length=512, is_fast=False, padding_side='right', truncation_side='right', special_tokens={'unk_token': '[UNK]', 'sep_token': '[SEP]', 'pad_token': '[PAD]', 'cls_token': '[CLS]', 'mask_token': '[MASK]'}, clean_up_tokenization_spaces=True),  added_tokens_decoder={\n",
      "\t0: AddedToken(\"[PAD]\", rstrip=False, lstrip=False, single_word=False, normalized=False, special=True),\n",
      "\t100: AddedToken(\"[UNK]\", rstrip=False, lstrip=False, single_word=False, normalized=False, special=True),\n",
      "\t101: AddedToken(\"[CLS]\", rstrip=False, lstrip=False, single_word=False, normalized=False, special=True),\n",
      "\t102: AddedToken(\"[SEP]\", rstrip=False, lstrip=False, single_word=False, normalized=False, special=True),\n",
      "\t103: AddedToken(\"[MASK]\", rstrip=False, lstrip=False, single_word=False, normalized=False, special=True),\n",
      "}\n"
     ]
    }
   ],
   "execution_count": 2
  },
  {
   "metadata": {
    "ExecuteTime": {
     "end_time": "2024-07-16T22:45:04.100015Z",
     "start_time": "2024-07-16T22:45:04.097478Z"
    }
   },
   "cell_type": "code",
   "source": [
    "# Verify Environment and Library Versions\n",
    "\n",
    "import transformers\n",
    "\n",
    "# Print the version of transformers library\n",
    "print(transformers.__version__)"
   ],
   "id": "418b5cd6a72f6677",
   "outputs": [
    {
     "name": "stdout",
     "output_type": "stream",
     "text": [
      "4.42.4\n"
     ]
    }
   ],
   "execution_count": 3
  },
  {
   "cell_type": "code",
   "id": "initial_id",
   "metadata": {
    "collapsed": true,
    "ExecuteTime": {
     "end_time": "2024-07-16T22:46:06.455250Z",
     "start_time": "2024-07-16T22:46:06.452701Z"
    }
   },
   "source": "from transformers import pipeline, DistilBertForSequenceClassification, DistilBertTokenizer",
   "outputs": [],
   "execution_count": 5
  },
  {
   "metadata": {
    "ExecuteTime": {
     "end_time": "2024-07-16T22:46:09.401838Z",
     "start_time": "2024-07-16T22:46:08.677684Z"
    }
   },
   "cell_type": "code",
   "source": [
    "# Load the pre-trained model and tokenizer\n",
    "model_name = 'distilbert-base-uncased-finetuned-sst-2-english'\n",
    "model = DistilBertForSequenceClassification.from_pretrained(model_name)\n",
    "tokenizer = DistilBertTokenizer.from_pretrained(model_name)"
   ],
   "id": "bfc9eb585b4c57ae",
   "outputs": [],
   "execution_count": 6
  },
  {
   "metadata": {
    "ExecuteTime": {
     "end_time": "2024-07-16T22:46:13.009835Z",
     "start_time": "2024-07-16T22:46:12.984753Z"
    }
   },
   "cell_type": "code",
   "source": [
    "# Specify the task and the pre-trained model\n",
    "pipe = pipeline(task='sentiment-analysis', model=model, tokenizer=tokenizer)"
   ],
   "id": "e2afd93d49ee5ce6",
   "outputs": [
    {
     "name": "stderr",
     "output_type": "stream",
     "text": [
      "Hardware accelerator e.g. GPU is available in the environment, but no `device` argument is passed to the `Pipeline` object. Model will be on CPU.\n"
     ]
    }
   ],
   "execution_count": 7
  },
  {
   "metadata": {
    "ExecuteTime": {
     "end_time": "2024-07-16T22:46:33.771922Z",
     "start_time": "2024-07-16T22:46:33.768835Z"
    }
   },
   "cell_type": "code",
   "source": [
    "# Example text data\n",
    "data = [\n",
    "    \"I love this movie, it was fantastic!\",\n",
    "    \"The film was boring and too long.\",\n",
    "    \"An excellent performance by the lead actor.\",\n",
    "    \"Not my cup of tea, I didn't enjoy it.\"\n",
    "]\n"
   ],
   "id": "ba88286efa872bc4",
   "outputs": [],
   "execution_count": 8
  },
  {
   "metadata": {
    "ExecuteTime": {
     "end_time": "2024-07-16T22:46:43.714407Z",
     "start_time": "2024-07-16T22:46:42.782345Z"
    }
   },
   "cell_type": "code",
   "source": [
    "# Make predictions\n",
    "preds = pipe(data)"
   ],
   "id": "2200c96b16ee5da",
   "outputs": [],
   "execution_count": 9
  },
  {
   "metadata": {
    "ExecuteTime": {
     "end_time": "2024-07-16T22:46:50.900800Z",
     "start_time": "2024-07-16T22:46:50.897959Z"
    }
   },
   "cell_type": "code",
   "source": [
    "# Inspect the predictions\n",
    "for text, pred in zip(data, preds):\n",
    "    print(f'Text: {text}')\n",
    "    print(f'Prediction: {pred}\\n')"
   ],
   "id": "a7046a8e4ad15f32",
   "outputs": [
    {
     "name": "stdout",
     "output_type": "stream",
     "text": [
      "Text: I love this movie, it was fantastic!\n",
      "Prediction: {'label': 'POSITIVE', 'score': 0.9998763799667358}\n",
      "\n",
      "Text: The film was boring and too long.\n",
      "Prediction: {'label': 'NEGATIVE', 'score': 0.9997709393501282}\n",
      "\n",
      "Text: An excellent performance by the lead actor.\n",
      "Prediction: {'label': 'POSITIVE', 'score': 0.9998691082000732}\n",
      "\n",
      "Text: Not my cup of tea, I didn't enjoy it.\n",
      "Prediction: {'label': 'NEGATIVE', 'score': 0.9989538192749023}\n",
      "\n"
     ]
    }
   ],
   "execution_count": 10
  }
 ],
 "metadata": {
  "kernelspec": {
   "display_name": "Python 3",
   "language": "python",
   "name": "python3"
  },
  "language_info": {
   "codemirror_mode": {
    "name": "ipython",
    "version": 2
   },
   "file_extension": ".py",
   "mimetype": "text/x-python",
   "name": "python",
   "nbconvert_exporter": "python",
   "pygments_lexer": "ipython2",
   "version": "2.7.6"
  }
 },
 "nbformat": 4,
 "nbformat_minor": 5
}
